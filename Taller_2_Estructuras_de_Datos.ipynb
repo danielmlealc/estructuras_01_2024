{
  "nbformat": 4,
  "nbformat_minor": 0,
  "metadata": {
    "colab": {
      "provenance": [],
      "include_colab_link": true
    },
    "kernelspec": {
      "name": "python3",
      "display_name": "Python 3"
    },
    "language_info": {
      "name": "python"
    },
    "accelerator": "TPU"
  },
  "cells": [
    {
      "cell_type": "markdown",
      "metadata": {
        "id": "view-in-github",
        "colab_type": "text"
      },
      "source": [
        "<a href=\"https://colab.research.google.com/github/danielmlealc/estructuras_01_2024/blob/Taller-%232/Taller_2_Estructuras_de_Datos.ipynb\" target=\"_parent\"><img src=\"https://colab.research.google.com/assets/colab-badge.svg\" alt=\"Open In Colab\"/></a>"
      ]
    },
    {
      "cell_type": "code",
      "execution_count": null,
      "metadata": {
        "id": "07dF91FnWmwX"
      },
      "outputs": [],
      "source": [
        "import tensorflow as tf"
      ]
    },
    {
      "cell_type": "code",
      "source": [
        "import time"
      ],
      "metadata": {
        "id": "UFOZR8ypW0ZH"
      },
      "execution_count": null,
      "outputs": []
    },
    {
      "cell_type": "code",
      "source": [
        "def multiplicacion(recurso_disponible):\n",
        "    with tf.device(recurso_disponible):\n",
        "        matriz_1 = tf.random.uniform([10000, 10000], dtype=tf.float32)\n",
        "        matriz_2 = tf.random.uniform([10000, 10000], dtype=tf.float32)\n",
        "\n",
        "        start_time = time.time()\n",
        "        calculo = tf.multiply(matriz_1, matriz_2)\n",
        "        _ = calculo.numpy()\n",
        "        end_time = time.time()\n",
        "\n",
        "        print(f\"Tiempo de ejecución en {recurso_disponible}: {end_time - start_time:.2f} segundos\")\n",
        "\n",
        "# Llamada a la función para la CPU\n",
        "multiplicacion(\"/cpu:0\")\n",
        "\n",
        "# Llamada a la función para la GPU si está disponible\n",
        "if len(tf.config.list_logical_devices(\"GPU\")):\n",
        "    multiplicacion(\"/gpu:0\")\n",
        "\n",
        "# Llamada a la función para la TPU si está disponible\n",
        "try:\n",
        "    resolver = tf.distribute.cluster_resolver.TPUClusterResolver(tpu='')\n",
        "    tf.config.experimental_connect_to_cluster(resolver)\n",
        "    tf.tpu.experimental.initialize_tpu_system(resolver)\n",
        "    strategy = tf.distribute.TPUStrategy(resolver)\n",
        "\n",
        "    with strategy.scope():\n",
        "\n",
        "        # multiplicacion(\"/tpu:0\")\n",
        "\n",
        "        # Iniciar contador de tiempo\n",
        "        start_time = time.time()\n",
        "\n",
        "        # Código que utiliza la TPU\n",
        "        matriz_1 = tf.random.uniform([10000, 10000], dtype=tf.float32)\n",
        "        matriz_2 = tf.random.uniform([10000, 10000], dtype=tf.float32)\n",
        "        calculo = tf.multiply(matriz_1, matriz_2)\n",
        "        _ = calculo.numpy()\n",
        "\n",
        "        # Detener contador de tiempo\n",
        "        end_time = time.time()\n",
        "\n",
        "        # Calcular y mostrar tiempo de ejecución\n",
        "        print(f\"Tiempo de ejecución en TPU: {end_time - start_time:.2f} segundos\")\n",
        "\n",
        "\n",
        "\n",
        "\n",
        "except Exception as e:\n",
        "    print(f\"Hay un error con la TPU: {e}\")"
      ],
      "metadata": {
        "colab": {
          "base_uri": "https://localhost:8080/"
        },
        "id": "2OIi3zU2W5Om",
        "outputId": "652405a3-886a-4d51-820b-42012ff3ff59"
      },
      "execution_count": null,
      "outputs": [
        {
          "output_type": "stream",
          "name": "stdout",
          "text": [
            "Tiempo de ejecución en /cpu:0: 1.77 segundos\n",
            "Tiempo de ejecución en TPU: 1.07 segundos\n"
          ]
        }
      ]
    },
    {
      "cell_type": "code",
      "source": [
        "import numpy as np\n",
        "import matplotlib.pyplot as plt\n",
        "import time\n",
        "\n",
        "# Dimensiones de las matrices\n",
        "rows = 5\n",
        "cols = 5\n",
        "\n",
        "# Crear matrices aleatorias\n",
        "matrix1 = np.random.rand(rows, cols)\n",
        "matrix2 = np.random.rand(rows, cols)\n",
        "\n",
        "# Multiplicación de matrices utilizando Numpy\n",
        "start_time = time.time()\n",
        "result_np = np.dot(matrix1, matrix2)\n",
        "end_time = time.time()\n",
        "numpy_time = end_time - start_time\n",
        "print(\"Tiempo de ejecución con Numpy:\", numpy_time)\n",
        "\n",
        "# Multiplicación de matrices utilizando listas de Python\n",
        "def matrix_multiplication(matrix1, matrix2):\n",
        "    result = [[0 for _ in range(cols)] for _ in range(rows)]\n",
        "    for i in range(rows):\n",
        "        for j in range(cols):\n",
        "            for k in range(cols):\n",
        "                result[i][j] += matrix1[i][k] * matrix2[k][j]\n",
        "    return result\n",
        "\n",
        "start_time = time.time()\n",
        "result_py = matrix_multiplication(matrix1.tolist(), matrix2.tolist())\n",
        "end_time = time.time()\n",
        "python_time = end_time - start_time\n",
        "print(\"Tiempo de ejecución con listas de Python:\", python_time)\n",
        "\n",
        "# Visualizar las matrices\n",
        "fig, ax = plt.subplots(1, 3, figsize=(12, 4))\n",
        "\n",
        "ax[0].imshow(matrix1, cmap='viridis')\n",
        "ax[0].set_title('Matrix 1')\n",
        "ax[0].axis('off')\n",
        "\n",
        "ax[1].imshow(matrix2, cmap='viridis')\n",
        "ax[1].set_title('Matrix 2')\n",
        "ax[1].axis('off')\n",
        "\n",
        "ax[2].imshow(result_np, cmap='viridis')\n",
        "ax[2].set_title('Result (Numpy)')\n",
        "ax[2].axis('off')\n",
        "\n",
        "plt.show()\n"
      ],
      "metadata": {
        "id": "_MYZZvHwXKMB",
        "colab": {
          "base_uri": "https://localhost:8080/",
          "height": 329
        },
        "outputId": "36b255ac-7d0b-48ed-90ce-2800403a6549"
      },
      "execution_count": null,
      "outputs": [
        {
          "output_type": "stream",
          "name": "stdout",
          "text": [
            "Tiempo de ejecución con Numpy: 0.01002812385559082\n",
            "Tiempo de ejecución con listas de Python: 0.0001933574676513672\n"
          ]
        },
        {
          "output_type": "display_data",
          "data": {
            "text/plain": [
              "<Figure size 1200x400 with 3 Axes>"
            ],
            "image/png": "[encoded data removed]"
          },
          "metadata": {}
        }
      ]
    }
  ]
}